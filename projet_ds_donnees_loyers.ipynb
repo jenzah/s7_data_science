{
 "cells": [
  {
   "cell_type": "markdown",
   "id": "ec1c84f6",
   "metadata": {},
   "source": [
    "# Notebook 1 : Préparation et nettoyage des données immobilières\n",
    "\n",
    "---\n",
    "\n",
    "## 📑 Table des matières\n",
    "\n",
    "1. [Introduction](#Introduction)\n",
    "2. [Import des bibliothèques](#Import-des-bibliothèques)\n",
    "3. [Chargement des données brutes](#Chargement-des-données-brutes)\n",
    "4. [Exploration initiale des données](#Exploration-initiale-des-données)\n",
    "5. [Nettoyage des données](#Nettoyage-des-données)\n",
    "6. [Transformation et enrichissement](#Transformation-et-enrichissement)\n",
    "7. [Analyses statistiques descriptives](#Analyses-statistiques-descriptives)\n",
    "8. [Visualisations exploratoires](#Visualisations-exploratoires)\n",
    "9. [Export des données nettoyées](#Export-des-données-nettoyées)\n",
    "10. [Synthèse du nettoyage](#Synthèse-du-nettoyage)\n",
    "\n",
    "---\n",
    "\n",
    "## Introduction\n",
    "\n",
    "### Objectif de ce notebook\n",
    "\n",
    "Ce notebook a pour objectif de préparer les données loyers.\n",
    "\n",
    "### Sources de données utilisées\n",
    "\n",
    "**\"Carte des loyers\" - Indicateurs de loyers d'annonce par commune en 2024, [source](https://www.data.gouv.fr/datasets/carte-des-loyers-indicateurs-de-loyers-dannonce-par-commune-en-2024/)**\n",
    "- développée par la Direction Générale de l'Aménagement, du Logement et de la Nature,\n",
    "- basée sur 9,9 millions d'annonces locatives, permettant d'estimer les prix des loyers par commune pour le 3ème trimestre 2024.\n",
    "\n",
    "Les indicateurs sont calculés à partir des données de leboncoin et SeLoger; ils couvrent toute la France et concernent différents types de logements.\n",
    "\n",
    "Le document comporte également d'importantes mises en garde concernant l'utilisation de ces estimations, recommandant la prudence pour :\n",
    "- Les communes avec peu d'observations (moins de 30)\n",
    "- Les zones avec un faible coefficient de détermination (R2 < 0,5)\n",
    "- Les zones avec des intervalles de prédiction très larges\n",
    "\n",
    "---\n",
    "\n",
    "## Import des bibliothèques\n"
   ]
  },
  {
   "cell_type": "code",
   "execution_count": null,
   "id": "3e8ecacb",
   "metadata": {},
   "outputs": [],
   "source": [
    "# Manipulation de données\n",
    "import pandas as pd\n",
    "import numpy as np\n",
    "import re\n",
    "from typing import Tuple, List, Dict, List, Optional, Union\n",
    "\n",
    "# Visualisation\n",
    "import matplotlib.pyplot as plt\n",
    "import seaborn as sns\n",
    "import plotly.express as px\n",
    "import plotly.graph_objects as go\n",
    "from plotly.subplots import make_subplots\n",
    "\n",
    "# Utilitaires\n",
    "from datetime import datetime\n",
    "from rapidfuzz import process, fuzz"
   ]
  },
  {
   "cell_type": "markdown",
   "id": "2280d93d",
   "metadata": {},
   "source": [
    "---\n",
    "\n",
    "## Chargement des données brutes\n",
    "\n",
    "### Chargement et fusionnement des fichiers de loyers"
   ]
  },
  {
   "cell_type": "code",
   "execution_count": null,
   "id": "105f157a",
   "metadata": {},
   "outputs": [],
   "source": [
    "def load_data(file_path, name):\n",
    "    df = pd.read_csv(file_path,  encoding='latin1', sep=';')\n",
    "    # Add source column\n",
    "    df['Type de bien'] = name\n",
    "    return df\n",
    "\n",
    "def compare_columns(df1, df2, df3, df4):\n",
    "    print(\"Compare columns:\")\n",
    "    print(f\"Number of columns: {len(df1.columns)} == {len(df2.columns)} == {len(df3.columns)} == {len(df4.columns)}\")\n",
    "\n",
    "    for col in df1.columns:\n",
    "        in_df2 = col in df2.columns\n",
    "        in_df3 = col in df3.columns\n",
    "        in_df4 = col in df4.columns\n",
    "        if in_df2 and in_df3 and in_df4:\n",
    "            print(f\"   - {col} OK in all df\")\n",
    "        else:\n",
    "            print(f\"   - {col} MISSING in: \", end=\"\")\n",
    "            if not in_df2:\n",
    "                print(\"df2 \", end=\"\")\n",
    "            if not in_df3:\n",
    "                print(\"df3 \", end=\"\")\n",
    "            if not in_df4:\n",
    "                print(\"df4 \", end=\"\")\n",
    "    return\n",
    "\n",
    "def merge_datasets(df1, df2, df3, df4):\n",
    "    merged_df = pd.concat([df1, df2, df3, df4], ignore_index=True)\n",
    "    return merged_df\n",
    "\n",
    "df_appartements = load_data(\"data/indicateurs_de_loyers_appartements.csv\", \"Appartement\")\n",
    "df_appartements3plus = load_data(\"data/indicateurs_de_loyers_appartements3plus.csv\", \"Appartement T3+\")\n",
    "df_appartements12 = load_data(\"data/indicateurs_de_loyers_appartements12.csv\", \"Appartement T1-T2\")\n",
    "df_maisons = load_data(\"data/indicateurs_de_loyers_maisons.csv\", \"Maison\")\n",
    "# compare_columns(df_appartements, df_appartements3plus, df_appartements12, df_maisons)\n",
    "\n",
    "merged_df = merge_datasets(df_appartements, df_appartements3plus, df_appartements12, df_maisons)"
   ]
  },
  {
   "cell_type": "markdown",
   "id": "c5333ce9",
   "metadata": {},
   "source": [
    "### Chargement des données complémentaires (optionnel)"
   ]
  },
  {
   "cell_type": "code",
   "execution_count": null,
   "id": "8e76c587",
   "metadata": {},
   "outputs": [],
   "source": [
    "# CODEZ ICI: Charger les données INSEE, API, etc. si applicable"
   ]
  },
  {
   "cell_type": "markdown",
   "id": "614c4e73",
   "metadata": {},
   "source": [
    "---\n",
    "\n",
    "## **Exploration initiale des données**\n",
    "\n",
    "### **Structure du dataset**\n"
   ]
  },
  {
   "cell_type": "code",
   "execution_count": null,
   "id": "d1235b73",
   "metadata": {},
   "outputs": [],
   "source": [
    "def get_summary(df, show_missing=False):\n",
    "    \"\"\"Get a summary of the current dataset state\"\"\"\n",
    "    print(\"=\"*100)\n",
    "    print(\"DATASET SUMMARY\")\n",
    "    print(\"=\"*100)\n",
    "    print(f\"Shape: {df.shape[0]} rows × {df.shape[1]} columns\")\n",
    "    print(f\"\\nData types:\")\n",
    "    print(df.dtypes.value_counts())\n",
    "    if show_missing:\n",
    "        print(f\"\\nMissing values:\")\n",
    "        missing = df.isnull().sum()\n",
    "        missing = missing[missing > 0].sort_values(ascending=False)\n",
    "        if len(missing) > 0:\n",
    "            for col, count in missing.items():\n",
    "                pct = (count / len(df)) * 100\n",
    "                print(f\"  {col}: {count} ({pct:.1f}%)\")\n",
    "        else:\n",
    "            print(\"  No missing values!\")\n",
    "\n",
    "get_summary(merged_df, show_missing=True)"
   ]
  },
  {
   "cell_type": "markdown",
   "id": "fa80f294",
   "metadata": {},
   "source": [
    "#### **Analyse des valeurs manquantes**\n",
    "Il n'y a aucune valeur manquante dans ces ensembles de données.\n",
    "\n",
    "---\n",
    "\n",
    "### **Analyse des colonnes - Colonnes de la Carte des Loyers 2024**\n",
    "\n",
    "- `id_zone` : Identifiant unique de la zone\n",
    "- `INSEE_C` : Code INSEE de la commune\n",
    "- `LIBGEO` : Nom de la zone géographique (commune)\n",
    "- `EPCI` : Code de groupement intercommunal\n",
    "- `DEP` : Code du département\n",
    "- `REG` : Code de la région\n",
    "- `loypredm2` : Prix de location prédit par m²\n",
    "- `lwr.IPm2` : Borne inférieure de l'intervalle de prédiction\n",
    "- `upr.IPm2` : Borne supérieure de l'intervalle de prédiction\n",
    "- `TYPPRED` : Type de prédiction (\"commune\" ou \"maille\")\n",
    "- `nbobs_com` : Nombre d'observations dans la commune\n",
    "- `nbobs_mail` : Nombre d'observations dans la zone plus large\n",
    "- `R2_adj` : R² ajusté (mesure statistique de l'ajustement)\n",
    "\n",
    "#### **Précautions d'utilisation**\n",
    "Être prudent avec les données où :\n",
    "- R2_adj < 0,5\n",
    "- nbobs_com < 30\n",
    "- L'intervalle de prédiction est très large"
   ]
  },
  {
   "cell_type": "code",
   "execution_count": null,
   "id": "6c273eb1",
   "metadata": {},
   "outputs": [],
   "source": [
    "def analyse_and_print_columns_compact(df):\n",
    "    \"\"\" Print column analysis in a compact format \"\"\"\n",
    "    print(\"=\"*100)\n",
    "    print(\"COLUMNS ANALYSIS\")\n",
    "    print(\"=\"*100)\n",
    "    print(f\"Total columns: {len(df.columns)}\")\n",
    "    print(f\"\\nList of columns: {', '.join(df.columns)}\")\n",
    "    print(\"\\n\")\n",
    "    for column in df.columns:\n",
    "        print(\"-\" * 2*len(column))\n",
    "        print(f\"{column}\")\n",
    "        print(\"-\" * 2*len(column))\n",
    "        print(f\"Type: {df[column].dtype}\")\n",
    "        print(f\"Nulls: {df[column].isnull().sum()}\")\n",
    "        print(f\"Unique: {df[column].nunique()}\")\n",
    "        print(\"Top values:\")\n",
    "        print(df[column].value_counts().head().to_string())\n",
    "        print(\"\\n\")\n",
    "\n",
    "analyse_and_print_columns_compact(merged_df)"
   ]
  },
  {
   "cell_type": "markdown",
   "id": "a28d043b",
   "metadata": {},
   "source": [
    "#### **Analyse des colonnes**\n",
    "D'après l'analyse, nous constatons que les colonnes suivantes nécessiteront un changement de type :\n",
    "- `loypredm2` --> numérique\n",
    "- `lwr.IPm2` --> numérique\n",
    "- `upr.IPm2` --> numérique\n",
    "- `R2_adj` --> numérique\n",
    "- `REG` --> catégoriel\n",
    "\n",
    "---\n",
    "\n",
    "## **Nettoyage des données**\n",
    "\n",
    "### **Standardisation des noms de colonnes**"
   ]
  },
  {
   "cell_type": "code",
   "execution_count": null,
   "id": "8e3b8c4f",
   "metadata": {},
   "outputs": [],
   "source": [
    "def clean_col_name(col: str) -> str:\n",
    "    \"\"\"Internal helper to clean a single column name.\"\"\"\n",
    "    cleaned_col = \"\".join(char if char.isprintable() else ' ' for char in col)\n",
    "    cleaned_col = re.sub(r'\\s+', ' ', cleaned_col)\n",
    "    return cleaned_col.strip()\n",
    "\n",
    "def find_unprintable_columns(df):\n",
    "    \"\"\"Find columns with unprintable characters or whitespace issues in names\"\"\"\n",
    "    issues = []\n",
    "    for col in df.columns:\n",
    "        problems = []\n",
    "        # Check for unprintable characters\n",
    "        if not col.isprintable():\n",
    "            problems.append(\"unprintable characters\")\n",
    "        # Check for leading/trailing whitespace\n",
    "        if col != col.strip():\n",
    "            problems.append(\"leading/trailing whitespace\")\n",
    "        # Check for internal multiple spaces\n",
    "        if '  ' in col:\n",
    "            problems.append(\"multiple internal spaces\")\n",
    "        # Check for tabs\n",
    "        if '\\t' in col:\n",
    "            problems.append(\"tab characters\")\n",
    "        # Check for newlines\n",
    "        if '\\n' in col or '\\r' in col:\n",
    "            problems.append(\"newline characters\")\n",
    "        if problems:\n",
    "            issues.append({\n",
    "                'column': repr(col),\n",
    "                'issues': ', '.join(problems),\n",
    "                'cleaned_version': clean_col_name(col)\n",
    "            })\n",
    "    if issues:\n",
    "        print(f\"Found {len(issues)} columns with issues:\")\n",
    "        for item in issues:\n",
    "            print(f\"  Column: {item['column']}\")\n",
    "            print(f\"    Issues: {item['issues']}\")\n",
    "            print(f\"    Will become: '{item['cleaned_version']}'\")\n",
    "            print()\n",
    "    else:\n",
    "        print(\"✓ All column names are clean!\")\n",
    "    return issues\n",
    "\n",
    "def standardise_column_names(df):\n",
    "    \"\"\"Standardise column names by removing control characters like \\\\n, \\\\t\"\"\"\n",
    "    old_cols = df.columns.tolist()\n",
    "    df.columns = [clean_col_name(col) for col in df.columns]\n",
    "    changed = sum(1 for old, new in zip(old_cols, df.columns) if old != new)\n",
    "    print(f\"✓ Cleaned {changed} column names\")\n",
    "    return df\n",
    "    \n",
    "issues = find_unprintable_columns(merged_df)\n",
    "\n",
    "if issues:\n",
    "    merged_df = standardise_column_names(merged_df)"
   ]
  },
  {
   "cell_type": "markdown",
   "id": "369a2bfa",
   "metadata": {},
   "source": [
    "### **Sélection des colonnes pertinentes**\n",
    "\n",
    "On commence en filtrant sur la région pertinante.\n",
    "\n",
    "**Colonnes essentielles**\n",
    "- `LIBGEO` : Nom de la commune (pour visualisation)\n",
    "- `INSEE_C` : Code INSEE (pour jointures)\n",
    "- `DEP` : Code département\n",
    "- `loypredm2` : Prix de location prédit par m²\n",
    "\n",
    "**Colonnes pour l'analyse de qualité**\n",
    "- `nbobs_com` : Nombre d'observations dans la commune\n",
    "- `R2_adj` : Qualité statistique de la prédiction\n",
    "- `TYPPRED` : Type de prédiction (\"commune\" ou \"maille\")\n",
    "\n",
    "**Colonnes d'intervalles**\n",
    "- `lwr.IPm2` : Borne inférieure de l'estimation\n",
    "- `upr.IPm2` : Borne supérieure de l'estimation"
   ]
  },
  {
   "cell_type": "code",
   "execution_count": null,
   "id": "22f8ed72",
   "metadata": {},
   "outputs": [],
   "source": [
    "columns_to_drop = [\"id_zone\", \"EPCI\"]\n",
    "\n",
    "def drop_columns(df):\n",
    "    \"\"\"Drop columns that are of no interest\"\"\"\n",
    "    dropped = []\n",
    "    for col in df.columns:\n",
    "        if col in columns_to_drop:\n",
    "            df = df.drop(columns=[col])\n",
    "            dropped.append(col)\n",
    "    if len(dropped) > 0:\n",
    "        print(f\"✓ Dropped columns: {', '.join(dropped)}\")\n",
    "    else:\n",
    "        print(\"✓ No columns to drop\")\n",
    "    return df\n",
    "\n",
    "merged_df = drop_columns(merged_df)"
   ]
  },
  {
   "cell_type": "markdown",
   "id": "d00efc8a",
   "metadata": {},
   "source": [
    "### **Conversion des types de données**"
   ]
  },
  {
   "cell_type": "code",
   "execution_count": null,
   "id": "90c0f630",
   "metadata": {},
   "outputs": [],
   "source": [
    "numeric_columns = [\"loypredm2\", \"lwr.IPm2\", \"upr.IPm2\", \"R2_adj\"]\n",
    "categorial_columns = [\"REG\"]\n",
    "\n",
    "def convert_to_numeric(df):\n",
    "    \"\"\"Converts specified columns to numeric type\"\"\"\n",
    "    converted = []\n",
    "    for col in numeric_columns:\n",
    "        if col not in df.columns:\n",
    "            print(f\"⚠ Column '{col}' not found, skipping\")\n",
    "            continue\n",
    "        \n",
    "        try:\n",
    "            df[col] = pd.to_numeric(\n",
    "                df[col].astype(str).str.replace(',', '.', regex=False), \n",
    "                errors='coerce'\n",
    "            )\n",
    "            converted.append(col)\n",
    "        except Exception as e:\n",
    "            print(f\"⚠ Error converting '{col}': {e}\")\n",
    "    \n",
    "    print(f\"✓ Converted {len(converted)} columns to numeric type\")\n",
    "    return df\n",
    "\n",
    "def convert_to_categorial(df):\n",
    "    \"\"\"Converts specified columns to categorial type\"\"\"\n",
    "    converted = []\n",
    "    for col in categorial_columns:\n",
    "        if col not in df.columns:\n",
    "            print(f\"⚠ Column '{col}' not found, skipping\")\n",
    "            continue\n",
    "        \n",
    "        try:\n",
    "            df[col] = df[col].astype(str).str.strip()\n",
    "            df[col] = df[col].astype('object')\n",
    "            converted.append(col)\n",
    "        except Exception as e:\n",
    "            print(f\"⚠ Error converting '{col}': {e}\")\n",
    "    \n",
    "    print(f\"✓ Converted {len(converted)} columns to categorial type\")\n",
    "    return df\n",
    "\n",
    "merged_df = convert_to_numeric(merged_df)\n",
    "merged_df = convert_to_categorial(merged_df)"
   ]
  },
  {
   "cell_type": "markdown",
   "id": "68e96fe4",
   "metadata": {},
   "source": [
    "### **Suppression des espaces superflus**"
   ]
  },
  {
   "cell_type": "code",
   "execution_count": null,
   "id": "e5a81812",
   "metadata": {},
   "outputs": [],
   "source": [
    "def find_whitespace_in_values(df):\n",
    "    \"\"\"Find columns with leading/trailing whitespace in values\"\"\"\n",
    "    whitespace_info = []\n",
    "    string_cols = df.select_dtypes(include=['object', 'string']).columns\n",
    "    for col in string_cols:\n",
    "        has_whitespace = df[col].astype(str).str.strip() != df[col].astype(str)\n",
    "        if has_whitespace.any():\n",
    "            count = has_whitespace.sum()\n",
    "            whitespace_mask = has_whitespace\n",
    "            examples_original = df[col][whitespace_mask].head(3).tolist()\n",
    "            examples_cleaned = [str(val).strip() for val in examples_original]\n",
    "            examples_orig_str = ' | '.join([f'\"{val}\"' for val in examples_original])\n",
    "            examples_clean_str = ' | '.join([f'\"{val}\"' for val in examples_cleaned])\n",
    "            whitespace_info.append({\n",
    "                'column': col,\n",
    "                'affected_rows': count,\n",
    "                'percentage': round(count / len(df) * 100, 2),\n",
    "                'examples_before': examples_orig_str,\n",
    "                'examples_after': examples_clean_str\n",
    "            })\n",
    "    return pd.DataFrame(whitespace_info)\n",
    "\n",
    "def trim_whitespace(df, columns=None):\n",
    "    \"\"\"Trim whitespace from specified columns (or all string columns if None)\"\"\"\n",
    "    string_cols = df.select_dtypes(include=['object', 'string']).columns\n",
    "    if columns is not None:\n",
    "        string_cols = [col for col in columns if col in string_cols]\n",
    "    \n",
    "    for col in string_cols:\n",
    "        df[col] = df[col].str.strip()\n",
    "    \n",
    "    print(f\"✓ Trimmed whitespace from {len(string_cols)} columns\")\n",
    "    return df\n",
    "\n",
    "\n",
    "whitespace_df = find_whitespace_in_values(merged_df)\n",
    "\n",
    "if len(whitespace_df) > 0:\n",
    "    print(\"Columns with whitespace issues:\")\n",
    "    display(whitespace_df)\n",
    "    \n",
    "    # Trim whitespace from all string columns\n",
    "    trim_whitespace(merged_df)\n",
    "else:\n",
    "    print(\"✓ No whitespace issues found!\")"
   ]
  },
  {
   "cell_type": "markdown",
   "id": "35e4f632",
   "metadata": {},
   "source": [
    "### **Harmonisation des majuscules/minuscules**"
   ]
  },
  {
   "cell_type": "code",
   "execution_count": null,
   "id": "d81749e3",
   "metadata": {},
   "outputs": [],
   "source": [
    "def find_case_insensitive_duplicates(df):\n",
    "    \"\"\"\n",
    "    Finds columns with case-insensitive duplicates (e.g., 'Apple', 'apple').\n",
    "    Returns a DataFrame summarizing the issues for easy display.\n",
    "    \"\"\"\n",
    "    results = []\n",
    "    string_cols = df.select_dtypes(include=['object', 'string']).columns\n",
    "    for col in string_cols:\n",
    "        series = df[col]\n",
    "        clean_series = series.dropna().astype(str)\n",
    "        if len(clean_series) == 0:\n",
    "            continue\n",
    "        case_map = {}\n",
    "        for value in clean_series.unique():\n",
    "            lower_val = value.lower()\n",
    "            if lower_val in case_map:\n",
    "                case_map[lower_val].append(value)\n",
    "            else:\n",
    "                case_map[lower_val] = [value]\n",
    "        duplicate_groups = [group for group in case_map.values() if len(group) > 1]\n",
    "        if duplicate_groups:\n",
    "            value_counts = df[col].value_counts()\n",
    "            total_affected_rows = 0\n",
    "            example_groups = []\n",
    "            for group in duplicate_groups:\n",
    "                total_affected_rows += value_counts[group].sum()\n",
    "                most_frequent_form = max(group, key=lambda x: value_counts.get(x, 0))\n",
    "                group_str = ' | '.join([f'\"{val}\"' for val in sorted(group)])\n",
    "                example_groups.append(f'{group_str} -> \"{most_frequent_form}\"')\n",
    "            results.append({\n",
    "                'column': col,\n",
    "                'duplicate_groups': len(duplicate_groups),\n",
    "                'affected_rows': total_affected_rows,\n",
    "                'examples': ' || '.join(example_groups[:3])\n",
    "            })\n",
    "    return pd.DataFrame(results)\n",
    "\n",
    "def standardise_case(df, columns: list):\n",
    "    \"\"\"\n",
    "    Standardises the casing of values in the specified columns.\n",
    "    \"\"\"\n",
    "    standardised_count = 0\n",
    "    for col in columns:\n",
    "        if col not in df.columns:\n",
    "            continue\n",
    "        series = df[col]\n",
    "        clean_series = series.dropna().astype(str)\n",
    "        if len(clean_series) == 0:\n",
    "            continue\n",
    "        case_map = {}\n",
    "        for value in clean_series.unique():\n",
    "            lower_val = value.lower()\n",
    "            if lower_val in case_map:\n",
    "                case_map[lower_val].append(value)\n",
    "            else:\n",
    "                case_map[lower_val] = [value]\n",
    "        duplicate_groups = [group for group in case_map.values() if len(group) > 1]\n",
    "        if not duplicate_groups:\n",
    "            continue\n",
    "        value_counts = df[col].value_counts()\n",
    "        replacement_map = {}\n",
    "        for group in duplicate_groups:\n",
    "            most_frequent_form = max(group, key=lambda x: value_counts.get(x, 0))\n",
    "            for variant in group:\n",
    "                if variant != most_frequent_form:\n",
    "                    replacement_map[variant] = most_frequent_form\n",
    "        if replacement_map:\n",
    "            df[col] = df[col].replace(replacement_map)\n",
    "            standardised_count += 1\n",
    "    \n",
    "    print(f\"✓ Standardised case in {standardised_count} columns\")\n",
    "    return df\n",
    "\n",
    "\n",
    "case_dups_df = find_case_insensitive_duplicates(merged_df)\n",
    "\n",
    "if len(case_dups_df) > 0:\n",
    "    print(\"Columns with case-insensitive duplicates:\")\n",
    "    display(case_dups_df)\n",
    "    \n",
    "    # Standardize case for affected columns\n",
    "    columns_to_standardise = case_dups_df['column'].tolist()\n",
    "    standardise_case(columns_to_standardise)\n",
    "else:\n",
    "    print(\"✓ No case-insensitive duplicates found!\")"
   ]
  },
  {
   "cell_type": "markdown",
   "id": "557cdb4d",
   "metadata": {},
   "source": [
    "### **Trouver des groupes de chaînes similaires (potentielles erreurs de frappe) dans les colonnes catégorielles**"
   ]
  },
  {
   "cell_type": "code",
   "execution_count": null,
   "id": "e38ac260",
   "metadata": {},
   "outputs": [],
   "source": [
    "def normalise_for_comparison(s: str) -> str:\n",
    "    \"\"\"Intelligently cleans a string for a base similarity comparison.\"\"\"\n",
    "    if not isinstance(s, str):\n",
    "        return \"\"\n",
    "    s_lower = s.lower()\n",
    "    s_lower = re.sub(r'tbc\\s*\\(proposition\\s*-?|local\\s*|à\\s*confirmer|pp\\s*\\d', '', s_lower)\n",
    "    s_lower = re.sub(r'[\\s-]+', '', s_lower)\n",
    "    s_lower = s_lower.strip(\"()[]{}'\\\"- \")\n",
    "    return s_lower\n",
    "\n",
    "def find_fuzzy_duplicates(df, threshold: int = 85, min_length: int = 3):\n",
    "    \"\"\"\n",
    "    Finds groups of similar strings (potential typos) in categorical columns.\n",
    "    \"\"\"\n",
    "    issue_list = []\n",
    "    string_cols = df.select_dtypes(include=['object', 'string']).columns\n",
    "    for col in string_cols:\n",
    "        series = df[col]\n",
    "        if series.nunique() < 2 or series.nunique() > 2000:\n",
    "            continue\n",
    "        categories = series.dropna().unique().tolist()\n",
    "        filtered_cats = [\n",
    "            cat for cat in set(categories)\n",
    "            if isinstance(cat, str) and len(cat) >= min_length and not re.search(r'\\d', cat)\n",
    "        ]\n",
    "        if len(filtered_cats) < 2:\n",
    "            continue\n",
    "        normalised_cats = [normalise_for_comparison(cat) for cat in filtered_cats]\n",
    "        score_matrix = process.cdist(normalised_cats, normalised_cats, scorer=fuzz.ratio, score_cutoff=threshold)\n",
    "        groups = []\n",
    "        processed_indices = set()\n",
    "        for i in range(len(filtered_cats)):\n",
    "            if i in processed_indices:\n",
    "                continue\n",
    "            nonzero_result = score_matrix[i].nonzero()\n",
    "            if isinstance(nonzero_result, tuple) and len(nonzero_result) > 0:\n",
    "                similar_indices = nonzero_result[0] if len(nonzero_result) == 1 else nonzero_result[1]\n",
    "            else:\n",
    "                continue\n",
    "            if len(similar_indices) > 1:\n",
    "                current_group = {filtered_cats[j] for j in similar_indices}\n",
    "                groups.append(sorted(list(current_group)))\n",
    "                processed_indices.update(similar_indices)\n",
    "        if groups:\n",
    "            issue_list.append({'column': col, 'fuzzy_groups': groups})\n",
    "    return issue_list\n",
    "\n",
    "fuzzy_issues = find_fuzzy_duplicates(merged_df, threshold=85, min_length=3)\n",
    "\n",
    "if fuzzy_issues:\n",
    "    print(f\"Found fuzzy duplicates in {len(fuzzy_issues)} columns:\\n\")\n",
    "    for issue in fuzzy_issues:\n",
    "        print(f\"Column: {issue['column']}\")\n",
    "        for i, group in enumerate(issue['fuzzy_groups'], 1):\n",
    "            print(f\"  Group {i}: {group}\")\n",
    "        print()\n",
    "else:\n",
    "    print(\"✓ No fuzzy duplicates found!\")"
   ]
  },
  {
   "cell_type": "markdown",
   "id": "82e29d39",
   "metadata": {},
   "source": [
    "### **Suppression des doublons**"
   ]
  },
  {
   "cell_type": "code",
   "execution_count": null,
   "id": "057efa8c",
   "metadata": {},
   "outputs": [],
   "source": [
    "def remove_duplicates(df):\n",
    "    \"\"\"Removes duplicate rows from the current DataFrame.\"\"\"\n",
    "    initial_rows = len(df)\n",
    "    df = df.drop_duplicates(ignore_index=True)\n",
    "    removed_rows = initial_rows - len(df)\n",
    "    print(f\"✓ Removed {removed_rows} duplicate rows (kept {len(df)} unique rows)\")\n",
    "    return df\n",
    "\n",
    "merged_df = remove_duplicates(merged_df)"
   ]
  },
  {
   "cell_type": "markdown",
   "id": "d3d111a4",
   "metadata": {},
   "source": [
    "### **Filtrage des données**\n",
    "Selon deux critères principaux :\n",
    "\n",
    "**Filtrage géographique pour l'Île-de-France**\n",
    "- Sélection des communes de la région Île-de-France\n",
    "- Codes région : REG = \"11\"\n",
    "- Codes départements : 75 (Paris), 77, 78, 91, 92, 93, 94, 95\n",
    "\n",
    "\n",
    "**Filtrage qualitatif des données**\n",
    "- Nombre minimal d'observations : nbobs_com ≥ 30\n",
    "- Qualité statistique : R2_adj ≥ 0,5\n",
    "- Type de prédiction : TYPPRED = \"commune\""
   ]
  },
  {
   "cell_type": "code",
   "execution_count": null,
   "id": "5e8e46b8",
   "metadata": {},
   "outputs": [],
   "source": [
    "def filter_region(df):\n",
    "    \"\"\"Filter for Ile-de-France region.\"\"\"\n",
    "    print(\"=\"*100)\n",
    "    print(\"FILTER FOR ILE-DE-FRANCE\")\n",
    "    print(\"=\"*100)\n",
    "    filtered_df = df[df[\"REG\"] == \"11\"]\n",
    "    print(f\"Original dataset size: {len(df)}\")\n",
    "    print(f\"IDF dataset size: {len(filtered_df)}\")\n",
    "    departments = sorted(filtered_df[\"DEP\"].unique().tolist())\n",
    "    print(f\"\\nDepartements in IDF: {', '.join(departments)}\")\n",
    "    types = filtered_df[\"Type de bien\"].unique().tolist()\n",
    "    print(f\"\\nTypes of property: {', '.join(types)}\")\n",
    "    return filtered_df\n",
    "\n",
    "idf_data = merged_df.copy()\n",
    "idf_data = filter_region(idf_data)"
   ]
  },
  {
   "cell_type": "code",
   "execution_count": null,
   "id": "66b96561",
   "metadata": {},
   "outputs": [],
   "source": [
    "def filter_outliers(df):\n",
    "    \"\"\"Filter out outliers defined by the dataset owners.\"\"\"\n",
    "    print(\"=\"*100)\n",
    "    print(\"FILTER OUT OUTLIERS\")\n",
    "    print(\"=\"*100)\n",
    "    mask = (\n",
    "        (df['nbobs_com'] >= 15) &\n",
    "        (df['R2_adj'] >= 0.5) &\n",
    "        (df['TYPPRED'] == 'commune')\n",
    "    )\n",
    "    filtered_df = df[mask]\n",
    "    \n",
    "    print(f\"Original dataset size: {len(df)}\")\n",
    "    print(f\"IDF dataset size: {len(filtered_df)}\")\n",
    "    departments = sorted(filtered_df[\"DEP\"].unique().tolist())\n",
    "    if departments:\n",
    "        print(f\"\\nDepartements in IDF: {', '.join(departments)}\")\n",
    "    types = filtered_df[\"Type de bien\"].unique().tolist()\n",
    "    if types:\n",
    "        print(f\"\\nTypes of property: {', '.join(types)}\")\n",
    "\n",
    "def analyze_outliers(df):\n",
    "    \"\"\"Analyze outliers defined by the dataset owners.\"\"\"\n",
    "    print(\"=\"*100)\n",
    "    print(\"ANALYZE OUTLIERS\")\n",
    "    print(\"=\"*100)\n",
    "    \n",
    "    # Low observation count\n",
    "    low_obs = df[df['nbobs_com'] < 10]\n",
    "    print(f\"Communes with less than 10 observations: {len(low_obs)} ({len(low_obs)/len(df)*100:.2f}%)\")\n",
    "    print(\"Sample of low observation communes:\")\n",
    "    print(low_obs[['LIBGEO', 'DEP', 'nbobs_com']].head())\n",
    "    \n",
    "    # Low R2 adjustment\n",
    "    low_r2 = df[df['R2_adj'] < 0.5]\n",
    "    print(f\"\\nCommunues with R2_adj < 0.5: {len(low_r2)} ({len(low_r2)/len(df)*100:.2f}%)\")\n",
    "    print(\"Sample of low R2 communes:\")\n",
    "    print(low_r2[['LIBGEO', 'DEP', 'R2_adj']].head())\n",
    "    \n",
    "    # Non-commune predictions\n",
    "    non_commune = df[df['TYPPRED'] != 'commune']\n",
    "    print(f\"\\nNon-commune predictions: {len(non_commune)} ({len(non_commune)/len(df)*100:.2f}%)\")\n",
    "    print(\"Sample of non-commune predictions:\")\n",
    "    print(non_commune[['LIBGEO', 'DEP', 'TYPPRED']].head())\n",
    "    \n",
    "    # Create a summary mask\n",
    "    mask = (\n",
    "        (df['nbobs_com'] >= 30) &\n",
    "        (df['R2_adj'] >= 0.5) &\n",
    "        (df['TYPPRED'] == 'commune')\n",
    "    )\n",
    "    filtered_df = df[mask]\n",
    "    \n",
    "    print(f\"\\nOriginal dataset size: {len(df)}\")\n",
    "    print(f\"Filtered dataset size: {len(filtered_df)} ({len(filtered_df)/len(df)*100:.2f}%)\")\n",
    "    \n",
    "    departments = sorted(filtered_df[\"DEP\"].unique().tolist())\n",
    "    if departments:\n",
    "        print(f\"\\nDepartements in filtered dataset: {', '.join(departments)}\")\n",
    "    \n",
    "    return filtered_df\n",
    "\n",
    "analyze_outliers(idf_data)\n",
    "# idf_data = filter_outliers(idf_data)"
   ]
  },
  {
   "cell_type": "markdown",
   "id": "8fa41d5c",
   "metadata": {},
   "source": [
    "### Filtrage par type de bien"
   ]
  },
  {
   "cell_type": "code",
   "execution_count": null,
   "id": "70ac0365",
   "metadata": {},
   "outputs": [],
   "source": [
    "# CODEZ ICI: Garder uniquement les types de biens pertinents\n",
    "# Exemple: appartements et maisons uniquement"
   ]
  },
  {
   "cell_type": "markdown",
   "id": "bf7858b2",
   "metadata": {},
   "source": [
    "---\n",
    "\n",
    "## Transformation et enrichissement\n",
    "\n",
    "### Création de variables dérivées"
   ]
  },
  {
   "cell_type": "code",
   "execution_count": null,
   "id": "2316948f",
   "metadata": {},
   "outputs": [],
   "source": [
    "# CODEZ ICI: Créer des variables calculées utiles\n",
    "\n",
    "# Prix au m²\n",
    "\n",
    "# Année de transaction\n",
    "\n",
    "# Trimestre\n",
    "\n",
    "# Région (à partir du code département)\n",
    "# CODEZ ICI: Mapper les départements aux régions\n",
    "\n",
    "# Catégorie de surface\n",
    "# CODEZ ICI: Créer des catégories (petit, moyen, grand)"
   ]
  },
  {
   "cell_type": "markdown",
   "id": "c52b5005",
   "metadata": {},
   "source": [
    "### Encodage des variables catégorielles (si nécessaire)"
   ]
  },
  {
   "cell_type": "code",
   "execution_count": null,
   "id": "3a272e54",
   "metadata": {},
   "outputs": [],
   "source": [
    "# CODEZ ICI: Encoder les variables catégorielles si nécessaire pour l'analyse"
   ]
  },
  {
   "cell_type": "markdown",
   "id": "a3e4cfbc",
   "metadata": {},
   "source": [
    "### Ajout de données externes (optionnel)"
   ]
  },
  {
   "cell_type": "code",
   "execution_count": null,
   "id": "182f7384",
   "metadata": {},
   "outputs": [],
   "source": [
    "# CODEZ ICI: Fusionner avec données INSEE, API transport, etc.\n",
    "# Exemple: ajouter population, revenu médian par commune"
   ]
  },
  {
   "cell_type": "markdown",
   "id": "5263088a",
   "metadata": {},
   "source": [
    "---\n",
    "\n",
    "## Analyses statistiques descriptives\n",
    "\n",
    "### Statistiques globales"
   ]
  },
  {
   "cell_type": "code",
   "execution_count": null,
   "id": "022e2f60",
   "metadata": {},
   "outputs": [],
   "source": [
    "# CODEZ ICI: Statistiques descriptives générales\n",
    "\n",
    "# CODEZ ICI: Statistiques par catégorie (type de bien, région, etc.)"
   ]
  },
  {
   "cell_type": "markdown",
   "id": "d2f14a43",
   "metadata": {},
   "source": [
    "### Analyses par dimensions\n",
    "\n",
    "#### Par type de bien"
   ]
  },
  {
   "cell_type": "code",
   "execution_count": null,
   "id": "dfe217ba",
   "metadata": {},
   "outputs": [],
   "source": [
    "# CODEZ ICI: Statistiques par type de bien"
   ]
  },
  {
   "cell_type": "markdown",
   "id": "81af320d",
   "metadata": {},
   "source": [
    "#### Par année"
   ]
  },
  {
   "cell_type": "code",
   "execution_count": null,
   "id": "76ab4a97",
   "metadata": {},
   "outputs": [],
   "source": [
    "# CODEZ ICI: Évolution temporelle"
   ]
  },
  {
   "cell_type": "markdown",
   "id": "bd9831fe",
   "metadata": {},
   "source": [
    "#### Par région/département"
   ]
  },
  {
   "cell_type": "code",
   "execution_count": null,
   "id": "ae075102",
   "metadata": {},
   "outputs": [],
   "source": [
    "# CODEZ ICI: Statistiques géographiques"
   ]
  },
  {
   "cell_type": "markdown",
   "id": "994df5da",
   "metadata": {},
   "source": [
    "### Distribution des variables clés"
   ]
  },
  {
   "cell_type": "code",
   "execution_count": null,
   "id": "ae6eda6e",
   "metadata": {},
   "outputs": [],
   "source": [
    "# CODEZ ICI: Analyser la distribution des variables numériques importantes\n",
    "# - Distribution des prix\n",
    "# - Distribution des surfaces\n",
    "# - Distribution du prix au m²"
   ]
  },
  {
   "cell_type": "markdown",
   "id": "7bfc58f2",
   "metadata": {},
   "source": [
    "---\n",
    "\n",
    "## Visualisations exploratoires\n",
    "\n",
    "### Distribution des prix\n"
   ]
  },
  {
   "cell_type": "code",
   "execution_count": null,
   "id": "e1200e89",
   "metadata": {},
   "outputs": [],
   "source": [
    "# CODEZ ICI: Histogramme de la distribution des prix"
   ]
  },
  {
   "cell_type": "markdown",
   "id": "d01e133a",
   "metadata": {},
   "source": [
    "### Distribution des surfaces\n"
   ]
  },
  {
   "cell_type": "code",
   "execution_count": null,
   "id": "a5dc694a",
   "metadata": {},
   "outputs": [],
   "source": [
    "# CODEZ ICI: Histogramme de la distribution des surfaces"
   ]
  },
  {
   "cell_type": "markdown",
   "id": "453374f6",
   "metadata": {},
   "source": [
    "### Prix au m² par type de bien"
   ]
  },
  {
   "cell_type": "code",
   "execution_count": null,
   "id": "4987a4fe",
   "metadata": {},
   "outputs": [],
   "source": [
    "# CODEZ ICI: Boxplot comparant les prix au m² par type de bien"
   ]
  },
  {
   "cell_type": "markdown",
   "id": "0392ebb1",
   "metadata": {},
   "source": [
    "### Évolution temporelle des prix"
   ]
  },
  {
   "cell_type": "code",
   "execution_count": null,
   "id": "fcbfd642",
   "metadata": {},
   "outputs": [],
   "source": [
    "# CODEZ ICI: Graphique linéaire de l'évolution des prix moyens par année"
   ]
  },
  {
   "cell_type": "markdown",
   "id": "e53740a5",
   "metadata": {},
   "source": [
    "### Répartition géographique"
   ]
  },
  {
   "cell_type": "code",
   "execution_count": null,
   "id": "16f2b1b2",
   "metadata": {},
   "outputs": [],
   "source": [
    "# CODEZ ICI: Top 10 ou Top 20 des départements/villes par nombre de transactions"
   ]
  },
  {
   "cell_type": "markdown",
   "id": "6f88d3d9",
   "metadata": {},
   "source": [
    "### Prix moyen par département"
   ]
  },
  {
   "cell_type": "code",
   "execution_count": null,
   "id": "9677e970",
   "metadata": {},
   "outputs": [],
   "source": [
    "# CODEZ ICI: Carte ou graphique en barres des prix moyens par département"
   ]
  },
  {
   "cell_type": "markdown",
   "id": "51431195",
   "metadata": {},
   "source": [
    "### Corrélations"
   ]
  },
  {
   "cell_type": "code",
   "execution_count": null,
   "id": "5c31d322",
   "metadata": {},
   "outputs": [],
   "source": [
    "# CODEZ ICI: Matrice de corrélation des variables numériques"
   ]
  },
  {
   "cell_type": "markdown",
   "id": "60624912",
   "metadata": {},
   "source": [
    "### Prix au m² par région"
   ]
  },
  {
   "cell_type": "code",
   "execution_count": null,
   "id": "c99e7f65",
   "metadata": {},
   "outputs": [],
   "source": [
    "# CODEZ ICI: Graphique comparant les prix au m² entre régions"
   ]
  },
  {
   "cell_type": "markdown",
   "id": "0e715f69",
   "metadata": {},
   "source": [
    "---\n",
    "\n",
    "## Export des données nettoyées\n",
    "\n",
    "### Sauvegarde du dataset final"
   ]
  },
  {
   "cell_type": "code",
   "execution_count": null,
   "id": "273b8be6",
   "metadata": {},
   "outputs": [],
   "source": [
    "# CODEZ ICI: Exporter le dataframe nettoyé\n",
    "# df.to_csv('donnees_nettoyees.csv', index=False)\n",
    "# print(f\"Dataset nettoyé exporté : {df.shape[0]} lignes, {df.shape[1]} colonnes\")"
   ]
  },
  {
   "cell_type": "markdown",
   "id": "a82d437c",
   "metadata": {},
   "source": [
    "---\n",
    "\n",
    "## Synthèse du nettoyage\n",
    "\n",
    "### Résumé des transformations effectuées\n",
    "\n",
    "<!-- COMPLÉTEZ ICI: Résumez toutes les étapes de nettoyage -->\n",
    "<!-- 1. Données brutes initiales : X lignes -->\n",
    "<!-- 2. Après suppression des valeurs manquantes : Y lignes -->\n",
    "<!-- 3. Après filtrage des aberrations : Z lignes -->\n",
    "<!-- 4. Variables créées : liste -->\n",
    "<!-- 5. Données finales : N lignes, M colonnes -->\n",
    "\n",
    "### Qualité des données finales"
   ]
  },
  {
   "cell_type": "code",
   "execution_count": null,
   "id": "26116e03",
   "metadata": {},
   "outputs": [],
   "source": [
    "# CODEZ ICI: Vérification finale de la qualité\n",
    "# - Pas de valeurs manquantes sur colonnes critiques\n",
    "# - Types de données corrects\n",
    "# - Plages de valeurs cohérentes\n",
    "\n",
    "# print(\"Vérification finale :\")"
   ]
  },
  {
   "cell_type": "markdown",
   "id": "936a182e",
   "metadata": {},
   "source": [
    "### Recommandations pour l'analyse\n",
    "\n",
    "<!-- COMPLÉTEZ ICI: Notez les points importants pour l'analyse suivante -->\n",
    "<!-- - Variables les plus pertinentes identifiées -->\n",
    "<!-- - Limitations des données -->\n",
    "<!-- - Suggestions pour les widgets -->\n",
    "\n",
    "---\n",
    "\n",
    "**Notebook préparé par :**\n",
    "- Ashley OHNONA\n",
    "- Harisoa RANDRIANASOLO\n",
    "- Fairouz YOUDARENE\n",
    "- Jennifer ZAHORA\n",
    "\n",
    "**Date :** <!-- COMPLÉTEZ ICI: Date -->\n",
    "\n",
    "**Dataset final :** `donnees_nettoyees.csv`"
   ]
  }
 ],
 "metadata": {
  "kernelspec": {
   "display_name": ".venv",
   "language": "python",
   "name": "python3"
  },
  "language_info": {
   "codemirror_mode": {
    "name": "ipython",
    "version": 3
   },
   "file_extension": ".py",
   "mimetype": "text/x-python",
   "name": "python",
   "nbconvert_exporter": "python",
   "pygments_lexer": "ipython3",
   "version": "3.12.3"
  }
 },
 "nbformat": 4,
 "nbformat_minor": 5
}
