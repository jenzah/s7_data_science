{
 "cells": [
  {
   "cell_type": "markdown",
   "id": "ec1c84f6",
   "metadata": {},
   "source": [
    "# Notebook : Préparation et nettoyage des données communales (codes INSEE + coordonnées)\n",
    "\n",
    "---\n",
    "\n",
    "## 📑 Table des matières\n",
    "\n",
    "\n",
    "1. [Introduction](#introduction)\n",
    "2. [Import des bibliotheques](#import-des-bibliotheques)\n",
    "3. [Chargement des donnees brutes](#chargement-des-donnees-brutes)\n",
    "4. [Exploration initiale des donnees](#exploration-initiale-des-donnees)\n",
    "5. [Nettoyage des donnees](#nettoyage-des-donnees)\n",
    "6. [Transformation](#transformation)\n",
    "7. [Analyses statistiques descriptives](#analyses-statistiques-descriptives)\n",
    "8. [Visualisations exploratoires](#visualisations-exploratoires)\n",
    "9. [Export des donnees nettoyees](#export-des-donnees-nettoyees)\n",
    "10. [Synthese du nettoyage](#synthese-du-nettoyage)\n",
    "\n",
    "\n",
    "\n",
    "---\n",
    "\n",
    "## Introduction\n",
    "\n",
    "### Objectif de ce notebook\n",
    "\n",
    "Ce notebook a pour objectif de préparer et nettoyer les données communales françaises,\n",
    "afin d’obtenir une table claire contenant :\n",
    "\n",
    "le code INSEE de chaque commune,\n",
    "\n",
    "son nom,\n",
    "\n",
    "son code département et région,\n",
    "\n",
    "ses coordonnées géographiques (latitude, longitude).\n",
    "\n",
    "Ces données serviront à relier d’autres jeux de données (comme les loyers ou DVF)\n",
    "via code_commune_INSEE pour des analyses géographiques.\n",
    "\n",
    "### Sources de données utilisées\n",
    "\n",
    "Fichier : data/20230823-communes-departement-region.csv\n",
    "\n",
    "Origine : Île-de-France Mobilités — base officielle des points d’arrêt du réseau régional\n",
    "\n",
    "Source : \n",
    "https://www.data.gouv.fr/datasets/communes-de-france-base-des-codes-postaux/\n",
    "\n",
    "---\n",
    "\n",
    "## Import des bibliotheques\n"
   ]
  },
  {
   "cell_type": "code",
   "execution_count": 1,
   "id": "3e8ecacb",
   "metadata": {},
   "outputs": [],
   "source": [
    "# Manipulation de données\n",
    "import pandas as pd\n",
    "import geopandas as gpd\n",
    "\n",
    "# Visualisation\n",
    "import matplotlib.pyplot as plt\n",
    "\n",
    "# Utilitaires\n",
    "from shapely.geometry import Point"
   ]
  },
  {
   "cell_type": "markdown",
   "id": "2280d93d",
   "metadata": {},
   "source": [
    "---\n",
    "\n",
    "## Chargement des donnees brutes\n",
    "\n",
    "### Chargement du fichier "
   ]
  },
  {
   "cell_type": "code",
   "execution_count": 2,
   "id": "105f157a",
   "metadata": {},
   "outputs": [
    {
     "name": "stdout",
     "output_type": "stream",
     "text": [
      "✅ Fichier chargé avec succès : 39201 lignes, 15 colonnes.\n"
     ]
    }
   ],
   "source": [
    "\n",
    "def load_data():\n",
    "    communes = pd.read_csv(\"data/20230823-communes-departement-region.csv\", sep=\",\", low_memory=False)\n",
    "    print(f\"✅ Fichier chargé avec succès : {communes.shape[0]} lignes, {communes.shape[1]} colonnes.\")\n",
    "    return communes\n",
    "communes_raw = load_data()"
   ]
  },
  {
   "cell_type": "markdown",
   "id": "614c4e73",
   "metadata": {},
   "source": [
    "---\n",
    "\n",
    "## Exploration initiale des donnees\n",
    "\n",
    "### Structure du dataset\n"
   ]
  },
  {
   "cell_type": "code",
   "execution_count": 3,
   "id": "d1235b73",
   "metadata": {},
   "outputs": [
    {
     "name": "stdout",
     "output_type": "stream",
     "text": [
      "\n",
      "Structure du dataset : Communes\n",
      "Nombre de lignes : 39201\n",
      "Nombre de colonnes : 15\n",
      "Noms des colonnes :\n",
      "['code_commune_INSEE', 'nom_commune_postal', 'code_postal', 'libelle_acheminement', 'ligne_5', 'latitude', 'longitude', 'code_commune', 'article', 'nom_commune', 'nom_commune_complet', 'code_departement', 'nom_departement', 'code_region', 'nom_region']\n",
      "Types de données :\n",
      "code_commune_INSEE       object\n",
      "nom_commune_postal       object\n",
      "code_postal               int64\n",
      "libelle_acheminement     object\n",
      "ligne_5                  object\n",
      "latitude                float64\n",
      "longitude               float64\n",
      "code_commune            float64\n",
      "article                  object\n",
      "nom_commune              object\n",
      "nom_commune_complet      object\n",
      "code_departement         object\n",
      "nom_departement          object\n",
      "code_region             float64\n",
      "nom_region               object\n",
      "dtype: object\n"
     ]
    }
   ],
   "source": [
    "def initial_exploration(df, dataset_name= \"Dataset\"):\n",
    "    \n",
    "    print(f\"\\nStructure du dataset : {dataset_name}\")\n",
    "    \n",
    "    print(f\"Nombre de lignes : {df.shape[0]}\")\n",
    "    print(f\"Nombre de colonnes : {df.shape[1]}\")\n",
    "\n",
    "    print(\"Noms des colonnes :\")\n",
    "    print(df.columns.tolist())\n",
    "    \n",
    "    print(\"Types de données :\")\n",
    "    print(df.dtypes)\n",
    "    \n",
    "\n",
    "initial_exploration(communes_raw, \"Communes\")\n"
   ]
  },
  {
   "cell_type": "markdown",
   "id": "fa80f294",
   "metadata": {},
   "source": [
    "### Analyse des colonnes\n"
   ]
  },
  {
   "cell_type": "code",
   "execution_count": 4,
   "id": "6c273eb1",
   "metadata": {},
   "outputs": [
    {
     "name": "stdout",
     "output_type": "stream",
     "text": [
      "\n",
      " Analyse des colonnes pour : Transports IDF\n",
      "\n",
      " Colonne : code_commune_INSEE\n",
      "   ➜ Type : object\n",
      "   ➜ Valeurs manquantes : 0\n",
      "   ➜ Valeurs uniques : 36013\n",
      "\n",
      " Colonne : nom_commune_postal\n",
      "   ➜ Type : object\n",
      "   ➜ Valeurs manquantes : 0\n",
      "   ➜ Valeurs uniques : 33527\n",
      "\n",
      " Colonne : code_postal\n",
      "   ➜ Type : int64\n",
      "   ➜ Valeurs manquantes : 0\n",
      "   ➜ Valeurs uniques : 6329\n",
      "\n",
      " Colonne : libelle_acheminement\n",
      "   ➜ Type : object\n",
      "   ➜ Valeurs manquantes : 0\n",
      "   ➜ Valeurs uniques : 33675\n",
      "\n",
      " Colonne : ligne_5\n",
      "   ➜ Type : object\n",
      "   ➜ Valeurs manquantes : 35944\n",
      "   ➜ Valeurs uniques : 3042\n",
      "\n",
      " Colonne : latitude\n",
      "   ➜ Type : float64\n",
      "   ➜ Valeurs manquantes : 269\n",
      "   ➜ Valeurs uniques : 35921\n",
      "\n",
      " Colonne : longitude\n",
      "   ➜ Type : float64\n",
      "   ➜ Valeurs manquantes : 269\n",
      "   ➜ Valeurs uniques : 35921\n",
      "\n",
      " Colonne : code_commune\n",
      "   ➜ Type : float64\n",
      "   ➜ Valeurs manquantes : 7\n",
      "   ➜ Valeurs uniques : 908\n",
      "\n",
      " Colonne : article\n",
      "   ➜ Type : object\n",
      "   ➜ Valeurs manquantes : 36621\n",
      "   ➜ Valeurs uniques : 6\n",
      "\n",
      " Colonne : nom_commune\n",
      "   ➜ Type : object\n",
      "   ➜ Valeurs manquantes : 0\n",
      "   ➜ Valeurs uniques : 33440\n",
      "\n",
      " Colonne : nom_commune_complet\n",
      "   ➜ Type : object\n",
      "   ➜ Valeurs manquantes : 0\n",
      "   ➜ Valeurs uniques : 33610\n",
      "\n",
      " Colonne : code_departement\n",
      "   ➜ Type : object\n",
      "   ➜ Valeurs manquantes : 7\n",
      "   ➜ Valeurs uniques : 104\n",
      "\n",
      " Colonne : nom_departement\n",
      "   ➜ Type : object\n",
      "   ➜ Valeurs manquantes : 267\n",
      "   ➜ Valeurs uniques : 101\n",
      "\n",
      " Colonne : code_region\n",
      "   ➜ Type : float64\n",
      "   ➜ Valeurs manquantes : 267\n",
      "   ➜ Valeurs uniques : 18\n",
      "\n",
      " Colonne : nom_region\n",
      "   ➜ Type : object\n",
      "   ➜ Valeurs manquantes : 267\n",
      "   ➜ Valeurs uniques : 18\n"
     ]
    }
   ],
   "source": [
    "def analyze_columns(df, dataset_name=\"Dataset\"):\n",
    "   \n",
    "    print(f\"\\n Analyse des colonnes pour : {dataset_name}\")\n",
    "    \n",
    "    # Boucle sur chaque colonne\n",
    "    for col in df.columns:\n",
    "        print(f\"\\n Colonne : {col}\")\n",
    "        print(f\"   ➜ Type : {df[col].dtype}\")\n",
    "        print(f\"   ➜ Valeurs manquantes : {df[col].isna().sum()}\")\n",
    "        print(f\"   ➜ Valeurs uniques : {df[col].nunique()}\")\n",
    "    \n",
    "\n",
    "analyze_columns(communes_raw, \"Transports IDF\")"
   ]
  },
  {
   "cell_type": "markdown",
   "id": "a28d043b",
   "metadata": {},
   "source": [
    "\n",
    "**Colonnes essentielles**\n",
    "\n",
    "Les colonnes essentielles pour l’analyse centrée sur la localisation des transports sont :\n",
    "\n",
    "**code_commune_INSEE** → Code unique par commune  **CRITIQUE**\n",
    "\n",
    "**code_departement** → Département **IMPORTANTE**\n",
    "\n",
    "**latitude, longitude** → coordonnées géographiques **CRITIQUE**\n",
    "\n",
    "\n",
    "---\n",
    "\n",
    "## Nettoyage des donnees\n",
    "\n",
    "### Sélection des colonnes pertinentes"
   ]
  },
  {
   "cell_type": "code",
   "execution_count": 5,
   "id": "8e3b8c4f",
   "metadata": {},
   "outputs": [
    {
     "name": "stdout",
     "output_type": "stream",
     "text": [
      " Colonnes pertinentes sélectionnées avec succès\n",
      "Colonnes sélectionnées : ['code_commune_INSEE', 'latitude', 'longitude', 'code_departement']\n",
      "Nombre de lignes : 39201\n"
     ]
    }
   ],
   "source": [
    "def select_relevant_columns(df):\n",
    "    \n",
    "    colonnes_utiles = [\n",
    "        \"code_commune_INSEE\", \"latitude\", \"longitude\",\"code_departement\"\n",
    "    ]\n",
    "    df = df[colonnes_utiles]\n",
    "\n",
    "    print(\" Colonnes pertinentes sélectionnées avec succès\")\n",
    "    print(\"Colonnes sélectionnées :\", list(df.columns))\n",
    "    print(f\"Nombre de lignes : {len(df)}\")\n",
    "\n",
    "    return df\n",
    "\n",
    "communes_sel = select_relevant_columns(communes_raw)"
   ]
  },
  {
   "cell_type": "markdown",
   "id": "43f36c77",
   "metadata": {},
   "source": [
    "### Filtrer pour IDF\n"
   ]
  },
  {
   "cell_type": "code",
   "execution_count": null,
   "id": "ecf5ceab",
   "metadata": {},
   "outputs": [
    {
     "name": "stdout",
     "output_type": "stream",
     "text": [
      "➡ 1383 communes appartiennent à l’Île-de-France.\n",
      "Répartition par département :\n",
      "code_departement\n",
      "75     21\n",
      "77    544\n",
      "78    283\n",
      "91    208\n",
      "92     41\n",
      "93     41\n",
      "94     51\n",
      "95    194\n",
      "Name: count, dtype: int64\n"
     ]
    }
   ],
   "source": [
    "def filter_idf(df):\n",
    "   \n",
    "    # Codes INSEE des départements d'Île-de-France\n",
    "    departements_idf = [\"75\", \"77\", \"78\", \"91\", \"92\", \"93\", \"94\", \"95\"]\n",
    "\n",
    "    # On crée une copie explicite pour éviter le SettingWithCopyWarning\n",
    "    df = df.copy()\n",
    "\n",
    "    # Conversion du code département en chaîne de caractères\n",
    "    df.loc[:, \"code_departement\"] = df[\"code_departement\"].astype(str)\n",
    "\n",
    "    # Filtrage des communes d'Île-de-France\n",
    "    df_idf = df[df[\"code_departement\"].isin(departements_idf)].copy()\n",
    "\n",
    "    print(f\"➡ {len(df_idf)} communes appartiennent à l’Île-de-France.\")\n",
    "    print(\"Répartition par département :\")\n",
    "    print(df_idf[\"code_departement\"].value_counts().sort_index())\n",
    "\n",
    "    return df_idf\n",
    "\n",
    "# Exécution\n",
    "communes_idf = filter_idf(communes_sel)\n"
   ]
  },
  {
   "cell_type": "markdown",
   "id": "708904de",
   "metadata": {},
   "source": [
    "### Gestion des valeures manquantes \n",
    "\n"
   ]
  },
  {
   "cell_type": "code",
   "execution_count": 8,
   "id": "98d7e2b5",
   "metadata": {},
   "outputs": [
    {
     "name": "stdout",
     "output_type": "stream",
     "text": [
      "\n",
      "🧼 Nettoyage des doublons et valeurs manquantes...\n",
      " Coordonnées manquantes supprimées (lignes restantes : 1383)\n",
      "→ 0 valeurs manquantes supprimées\n"
     ]
    }
   ],
   "source": [
    "def clean_missing_duplicates(df):\n",
    "    print(\"\\n🧼 Nettoyage des doublons et valeurs manquantes...\")\n",
    "\n",
    "    avant = len(df)\n",
    "    df = df.dropna(subset=[\"latitude\", \"longitude\"])\n",
    "    print(f\" Coordonnées manquantes supprimées (lignes restantes : {len(df)})\")\n",
    "    print(f\"→ {avant - len(df)} valeurs manquantes supprimées\")\n",
    "    return df\n",
    "\n",
    "communes_no_missing_value = clean_missing_duplicates(communes_idf)\n"
   ]
  },
  {
   "cell_type": "markdown",
   "id": "68e96fe4",
   "metadata": {},
   "source": [
    "### Suppression des doublons"
   ]
  },
  {
   "cell_type": "code",
   "execution_count": 9,
   "id": "e5a81812",
   "metadata": {},
   "outputs": [
    {
     "name": "stdout",
     "output_type": "stream",
     "text": [
      "\n",
      " Suppression des doublons...\n",
      "→ 86 doublons supprimés\n"
     ]
    }
   ],
   "source": [
    "def remove_duplicates(df):\n",
    "    \n",
    "    print(\"\\n Suppression des doublons...\")\n",
    "\n",
    "    avant = len(df)\n",
    "    df = df.drop_duplicates(subset=['code_commune_INSEE'])\n",
    "    print(f\"→ {avant - len(df)} doublons supprimés\")\n",
    "    \n",
    "    return df\n",
    "\n",
    "communes_no_duplicates = remove_duplicates(communes_no_missing_value)"
   ]
  },
  {
   "cell_type": "markdown",
   "id": "07734c76",
   "metadata": {},
   "source": [
    "### Conversion des types de données\n"
   ]
  },
  {
   "cell_type": "code",
   "execution_count": 11,
   "id": "4e4b67b0",
   "metadata": {},
   "outputs": [
    {
     "name": "stdout",
     "output_type": "stream",
     "text": [
      "\n",
      " Conversion des types de données...\n",
      "✅ Conversion terminée avec succès !\n",
      "latitude              float64\n",
      "longitude             float64\n",
      "code_commune_INSEE     object\n",
      "dtype: object\n"
     ]
    }
   ],
   "source": [
    "def convert_data_types(df):\n",
    "    \n",
    "    print(\"\\n Conversion des types de données...\")\n",
    "\n",
    "    df = df.copy()\n",
    "\n",
    "    # Conversion des coordonnées en float\n",
    "    df.loc[:, \"latitude\"] = df[\"latitude\"].astype(float)\n",
    "    df.loc[:, \"longitude\"] = df[\"longitude\"].astype(float)\n",
    "    \n",
    "    # Normalisation du code INSEE sur 5 chiffres\n",
    "    df.loc[:, \"code_commune_INSEE\"] = df[\"code_commune_INSEE\"].astype(str).str.zfill(5)\n",
    "\n",
    "    print(\"✅ Conversion terminée avec succès !\")\n",
    "    print(df.dtypes[[\"latitude\", \"longitude\", \"code_commune_INSEE\"]])\n",
    "    \n",
    "    return df\n",
    "\n",
    "communes_final = convert_data_types(communes_no_duplicates)"
   ]
  },
  {
   "cell_type": "markdown",
   "id": "bf7858b2",
   "metadata": {},
   "source": [
    "---\n",
    "\n",
    "## Transformation \n",
    "\n",
    "### Création de variables dérivées "
   ]
  },
  {
   "cell_type": "code",
   "execution_count": 13,
   "id": "2316948f",
   "metadata": {},
   "outputs": [
    {
     "name": "stdout",
     "output_type": "stream",
     "text": [
      "\n",
      " Transformation des données...\n",
      " Colonnes renommées.\n",
      "Colonnes finales : ['INSEE_COM', 'latitude', 'longitude', 'code_departement']\n"
     ]
    }
   ],
   "source": [
    "def transform_data(df):\n",
    "    print(\"\\n Transformation des données...\")\n",
    "\n",
    "    df = df.rename(columns={\n",
    "        \"code_commune_INSEE\": \"INSEE_COM\"\n",
    "    })\n",
    "\n",
    "\n",
    "    print(\" Colonnes renommées.\")\n",
    "    print(f\"Colonnes finales : {list(df.columns)}\")\n",
    "    return df\n",
    "\n",
    "communes_rename = transform_data(communes_final)\n"
   ]
  },
  {
   "cell_type": "markdown",
   "id": "c52b5005",
   "metadata": {},
   "source": [
    "### Conversion en GeoDataFrame"
   ]
  },
  {
   "cell_type": "code",
   "execution_count": 14,
   "id": "3a272e54",
   "metadata": {},
   "outputs": [
    {
     "name": "stdout",
     "output_type": "stream",
     "text": [
      "\n",
      " Conversion en GeoDataFrame...\n",
      "\n",
      "--- Conversion en GeoDataFrame ---\n",
      "✅ Conversion réussie (1297 points).\n"
     ]
    }
   ],
   "source": [
    "def to_geodataframe(df):\n",
    "    print(\"\\n Conversion en GeoDataFrame...\")\n",
    "\n",
    "    print(\"\\n--- Conversion en GeoDataFrame ---\")\n",
    "    gdf = gpd.GeoDataFrame(\n",
    "        df,\n",
    "        geometry=gpd.points_from_xy(df[\"longitude\"], df[\"latitude\"]),\n",
    "        crs=\"EPSG:4326\"\n",
    "    )\n",
    "    print(f\"✅ Conversion réussie ({len(gdf)} points).\")\n",
    "    return gdf\n",
    "\n",
    "\n",
    "# Création du GeoDataFrame corrigé\n",
    "communes_gdf = to_geodataframe(communes_rename)\n"
   ]
  },
  {
   "cell_type": "markdown",
   "id": "5263088a",
   "metadata": {},
   "source": [
    "---\n",
    "\n",
    "## Analyses statistiques descriptives\n",
    "\n",
    "### Statistiques globales"
   ]
  },
  {
   "cell_type": "code",
   "execution_count": 16,
   "id": "022e2f60",
   "metadata": {},
   "outputs": [
    {
     "name": "stdout",
     "output_type": "stream",
     "text": [
      "Nombre de communes : 1297\n",
      "Départements présents : 8\n",
      "\n",
      "Étendue géographique :\n",
      "Latitude : 48.141 → 49.213\n",
      "Longitude : 1.481 → 3.489\n"
     ]
    }
   ],
   "source": [
    "def describe_communes(df):\n",
    "    print(f\"Nombre de communes : {len(df)}\")\n",
    "    print(f\"Départements présents : {df['code_departement'].nunique()}\")\n",
    "    print(\"\\nÉtendue géographique :\")\n",
    "    print(f\"Latitude : {df['latitude'].min():.3f} → {df['latitude'].max():.3f}\")\n",
    "    print(f\"Longitude : {df['longitude'].min():.3f} → {df['longitude'].max():.3f}\")\n",
    "\n",
    "describe_communes(communes_gdf)\n",
    "\n"
   ]
  },
  {
   "cell_type": "markdown",
   "id": "7bfc58f2",
   "metadata": {},
   "source": [
    "---\n",
    "\n",
    "## Visualisations exploratoires\n",
    "\n",
    "\n"
   ]
  },
  {
   "cell_type": "code",
   "execution_count": 17,
   "id": "e1200e89",
   "metadata": {},
   "outputs": [
    {
     "name": "stdout",
     "output_type": "stream",
     "text": [
      "\n",
      "--- Visualisation rapide ---\n"
     ]
    },
    {
     "data": {
      "text/plain": [
       "<Figure size 600x600 with 0 Axes>"
      ]
     },
     "metadata": {},
     "output_type": "display_data"
    },
    {
     "data": {
      "image/png": "[encoded data removed]",
      "text/plain": [
       "<Figure size 640x480 with 1 Axes>"
      ]
     },
     "metadata": {},
     "output_type": "display_data"
    }
   ],
   "source": [
    "def spatial_distribution(gdf):\n",
    "\n",
    "    print(\"\\n--- Visualisation rapide ---\")\n",
    "    plt.figure(figsize=(6,6))\n",
    "    gdf.plot(markersize=5, color=\"royalblue\", alpha=0.6)\n",
    "    plt.title(\"Répartition géographique des communes\")\n",
    "    plt.xlabel(\"Longitude\")\n",
    "    plt.ylabel(\"Latitude\")\n",
    "    plt.show()\n",
    "\n",
    "spatial_distribution(communes_gdf)"
   ]
  },
  {
   "cell_type": "markdown",
   "id": "0e715f69",
   "metadata": {},
   "source": [
    "---\n",
    "\n",
    "## Export des donnees nettoyees\n",
    "\n",
    "### Sauvegarde du dataset final"
   ]
  },
  {
   "cell_type": "code",
   "execution_count": null,
   "id": "273b8be6",
   "metadata": {},
   "outputs": [
    {
     "name": "stdout",
     "output_type": "stream",
     "text": [
      "✅ Fichier exporté : data/communes_coordonnees.geojson (1297 lignes)\n"
     ]
    }
   ],
   "source": [
    "communes_gdf.to_file(\"data/communes_coordonnees.geojson\", driver=\"GeoJSON\")\n",
    "print(f\"Fichier exporté : data/communes_coordonnees.geojson ({len(communes_gdf)} lignes)\")\n"
   ]
  },
  {
   "cell_type": "markdown",
   "id": "a82d437c",
   "metadata": {},
   "source": [
    "---\n",
    "\n",
    "## Synthese du nettoyage\n",
    "\n",
    "### Résumé des transformations effectuées\n",
    "\n",
    "\n",
    "1.\t**Données brutes initiales :** 39201 lignes, 15 colonnes  \n",
    "2.\t**Après filtre IDF:**  1383 lignes \n",
    "3. **Après suppression des valeurs manquantes critiques :** \n",
    "   0 lignes supprimées  \n",
    "4. **Après suppression des doublons de code_commune_INSEE :** 86 doublons supprimés  \n",
    "5. **Colonnes finales (7) :**  \n",
    "   'INSEE_COM', 'latitude', 'longitude', 'code_departement'\n",
    "   avec 1297 lignes\n",
    "6. **Nouvelles variables créées :**  \n",
    "   - `geometry` : point géographique à partir des coordonnées  \n",
    ". **Format final :** GeoDataFrame (projection WGS84 – EPSG:4326)\n",
    "\n",
    "\n",
    "\n",
    "### Qualité des données finales"
   ]
  },
  {
   "cell_type": "code",
   "execution_count": null,
   "id": "26116e03",
   "metadata": {},
   "outputs": [
    {
     "name": "stdout",
     "output_type": "stream",
     "text": [
      "\n",
      "📋 Vérification finale de la qualité des données :\n",
      "- Valeurs manquantes totales : 0\n",
      "- Nombre total de communes : 1297\n",
      "- Nombre de départements : 8\n",
      "\n",
      "🧭 Étendue géographique :\n",
      "Latitude  : 48.1408 → 49.2132\n",
      "Longitude : 1.4806 → 3.4892\n",
      "\n",
      "🧩 Types de données :\n",
      "INSEE_COM     object\n",
      "longitude    float64\n",
      "latitude     float64\n",
      "dtype: object\n"
     ]
    }
   ],
   "source": [
    "print(\"\\n Vérification finale de la qualité des données :\")\n",
    "\n",
    "missing_total = communes_gdf.isna().sum().sum()\n",
    "print(f\"- Valeurs manquantes totales : {missing_total}\")\n",
    "\n",
    "print(f\"- Nombre total de communes : {len(communes_gdf)}\")\n",
    "print(f\"- Nombre de départements : {communes_gdf['code_departement'].nunique()}\")\n",
    "\n",
    "print(\"\\n Étendue géographique :\")\n",
    "print(f\"Latitude  : {communes_gdf['latitude'].min():.4f} → {communes_gdf['latitude'].max():.4f}\")\n",
    "print(f\"Longitude : {communes_gdf['longitude'].min():.4f} → {communes_gdf['longitude'].max():.4f}\")\n",
    "\n",
    "print(\"\\n Types de données :\")\n",
    "print(communes_gdf.dtypes[['INSEE_COM', 'longitude', 'latitude']])\n"
   ]
  },
  {
   "cell_type": "markdown",
   "id": "936a182e",
   "metadata": {},
   "source": [
    "### Recommandations pour l'analyse\n",
    "\n",
    "Les variables les plus importantes pour la suite sont :\n",
    "\n",
    "INSEE_COM → clé unique pour relier aux loyers ou aux biens DVF\n",
    "\n",
    "latitude, longitude → pour la localisation géographique\n",
    "\n",
    "geometry → utile pour cartographie et jointures spatiales\n",
    "\n",
    "\n",
    "---\n",
    "\n",
    "**Notebook préparé par :**\n",
    "- Ashley OHNONA\n",
    "- Harisoa RANDRIANASOLO\n",
    "- Fairouz YOUDARENE\n",
    "- Jennifer ZAHORA\n",
    "\n",
    "**Date :** 16/10/2025\n",
    "\n",
    "**Dataset final :** `communes_coordonnees.geojson`"
   ]
  }
 ],
 "metadata": {
  "kernelspec": {
   "display_name": "Python 3",
   "language": "python",
   "name": "python3"
  },
  "language_info": {
   "codemirror_mode": {
    "name": "ipython",
    "version": 3
   },
   "file_extension": ".py",
   "mimetype": "text/x-python",
   "name": "python",
   "nbconvert_exporter": "python",
   "pygments_lexer": "ipython3",
   "version": "3.13.0"
  }
 },
 "nbformat": 4,
 "nbformat_minor": 5
}
