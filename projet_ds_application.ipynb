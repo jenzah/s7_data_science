{
 "cells": [
  {
   "cell_type": "markdown",
   "id": "66302dce",
   "metadata": {},
   "source": [
    "# Notebook 2: Application d'analyse immobilière\n",
    "---\n",
    "## Table des matières\n",
    "\n",
    "1. [Présentation du projet](#Présentation-du-projet)\n",
    "2. [Objectifs de l'application](#Objectifs-de-l'application)\n",
    "3. [Sources de données](#Sources-de-données)\n",
    "4. [Import des bibliothèques](#Import-des-bibliothèques)\n",
    "5. [Chargement des données](#Chargement-des-données)\n",
    "6. [Vue d'ensemble du marché](#Vue-d'ensemble-du-marché)\n",
    "7. [Exploration interactive par budget](#Exploration-interactive-par-budget)\n",
    "8. [Analyse géographique](#Analyse-géographique)\n",
    "9. [Système de recommandation](#Système-de-recommandation)\n",
    "10. [Analyse prédictive](#Analyse-prédictive)\n",
    "11. [Tableaux de bord personnalisés](#Tableaux-de-bord-personnalisés)\n",
    "12. [Conclusions et recommandations](#Conclusions-et-recommandations)\n",
    "13. [Annexes](#Annexes)\n",
    "14. [Guide d'utilisation](#Guide-d'utilisation)\n",
    "\n",
    "---\n",
    "\n",
    "## Présentation du projet\n",
    "### Persona ciblé\n",
    "\n",
    "#### Profil\n",
    "**Nom**: Marie\n",
    "**Age**: 40 ans\n",
    "**Occupation**: cadre supérieur à Paris\n",
    "\n",
    "**Budget**: 300-500k€\n",
    "\n",
    "**Objectif**: Acheter son premier bien locatif pour générer des revenus passifs\n",
    "\n",
    "\n",
    "#### Besoins spécifiques\n",
    "1. Identifier les villes avec le meilleur rendement locatif dans IDF\n",
    "2. Comprendre quels types de biens sont les plus rentables (studio vs T3 pour coloc)\n",
    "3. Calculer la rentabilité brute et nette\n",
    "4. Comparer le potentiel de location simple vs coloc\n",
    "5. Analyser les proximité des transport en commun\n",
    "6. Trouver des biens accessibles avec son budget\n",
    "7. Avoir un aperçu clair du marché (prix au m2,tendances)\n",
    "8. Observer l’évolution des prix sur 5–10 ans pour anticiper une plus-value\n",
    "9. Évaluer la liquidité du marché\n",
    "10. Obtenir un classement des Top 10 opportunités actuelles (un tableau ou score automatique).\n",
    "11. Analyser les charges moyennes par type de logement\n",
    "12. Vérifier la sécurité et l’attractivité du quartier\n",
    "\n",
    "\n",
    "---\n",
    "\n",
    "## Objectifs de l'application\n",
    "<!-- COMPLÉTEZ ICI: Listez les objectifs principaux de votre application -->\n",
    "<!-- Exemple: -->\n",
    "<!-- - Identifier les zones à fort potentiel de rentabilité -->\n",
    "<!-- - Calculer le ROI d'un investissement immobilier -->\n",
    "<!-- - etc. -->\n",
    "Identifier des territoires prometteurs pour un premier investissement locatif\n",
    "\n",
    "---\n",
    "\n",
    "## Sources de données\n",
    "<!-- COMPLÉTEZ ICI: Décrivez vos sources de données -->\n",
    "<!-- - Données principales (DVF, etc.) -->\n",
    "<!-- - Données complémentaires (INSEE, API, etc.) -->\n",
    "<!-- - Période couverte -->\n",
    "<!-- - Nombre de transactions analysées -->\n",
    "\n",
    "---\n",
    "\n",
    "## Import des bibliothèques"
   ]
  },
  {
   "cell_type": "code",
   "execution_count": null,
   "id": "eb2fb51d",
   "metadata": {},
   "outputs": [],
   "source": [
    "# Importation des bibliothèques nécessaires\n",
    "import pandas as pd\n",
    "import numpy as np\n",
    "import matplotlib.pyplot as plt\n",
    "import seaborn as sns\n",
    "\n",
    "# Pour les visualisations interactives\n",
    "import plotly.express as px\n",
    "# import plotly.graph_objects as go \n",
    "import ipywidgets as widgets\n",
    "# import folium\n",
    "\n",
    "# CODEZ ICI: Configuration supplémentaire si nécessaire"
   ]
  },
  {
   "cell_type": "markdown",
   "id": "21caadf4",
   "metadata": {},
   "source": [
    "---\n",
    "\n",
    "## Chargement des données"
   ]
  },
  {
   "cell_type": "code",
   "execution_count": null,
   "id": "1bea3fa1",
   "metadata": {},
   "outputs": [],
   "source": [
    "## Créez des fonctions pour chaque étape, c'est plus net que du code qui traîne partout !\n",
    "\n",
    "# Chargement des données nettoyées (préparées dans le Notebook 1)\n",
    "# df = pd.read_csv('donnees_nettoyees.csv')\n",
    "df = pd.read_csv('full_2024.csv')\n",
    "\n",
    "# Conversion de la date si nécessaire\n",
    "# df['date_mutation'] = pd.to_datetime(df['date_mutation'])\n",
    "\n",
    "# Affichage des premières lignes\n",
    "# print(f\"Données chargées : {df.shape[0]} lignes, {df.shape[1]} colonnes\")\n",
    "# df.head()"
   ]
  },
  {
   "cell_type": "markdown",
   "id": "e53fddba",
   "metadata": {},
   "source": [
    "---\n",
    "\n",
    "## Vue d'ensemble du marché\n",
    "\n",
    "### Widget 1.1 : Statistiques globales (simple/statique)\n",
    "<!-- COMPLÉTEZ ICI: Décrivez ce que ce widget doit montrer -->\n",
    "<!-- Exemple: Nombre total de transactions, prix moyen national, etc. -->\n"
   ]
  },
  {
   "cell_type": "code",
   "execution_count": null,
   "id": "c91f7533",
   "metadata": {},
   "outputs": [],
   "source": [
    "def nature_transaction(df):\n",
    "    \"\"\"Affiche la distribution des types de transactions du marché immobilier.\"\"\"\n",
    "    nature_mutation_counts = df[\"nature_mutation\"].value_counts().reset_index()\n",
    "    nature_mutation_counts.columns = ['Nature', 'Count']\n",
    "\n",
    "    fig = px.bar(nature_mutation_counts,\n",
    "                 x='Nature', \n",
    "                 y='Count',\n",
    "                 title='Distribution des types de transactions',\n",
    "                 text='Count')\n",
    "    \n",
    "    fig.show()\n",
    "    return\n",
    "\n",
    "nature_transaction(df)\n"
   ]
  },
  {
   "cell_type": "markdown",
   "id": "a9a2bd15",
   "metadata": {},
   "source": [
    "### Widget 1.2 \n",
    "<!-- COMPLÉTEZ ICI: Décrivez la visualisation attendue -->\n",
    "<!-- Exemple: Graphique linéaire montrant l'évolution des prix moyens par année -->\n"
   ]
  },
  {
   "cell_type": "code",
   "execution_count": null,
   "id": "6068a7d4",
   "metadata": {},
   "outputs": [],
   "source": [
    "def prix_moyen_par_type(df):\n",
    "    \"\"\"Afficher le prix moyen par type de bien immobilier.\"\"\"\n",
    "    avg_price_by_type = df.groupby(\"type_local\")[\"valeur_fonciere\"].mean().reset_index()\n",
    "    # print(avg_price_by_type)\n",
    "    print(avg_price_by_type.dtypes)\n",
    "    avg_price_by_type.columns = [\"Type\", \"Avg price\"]\n",
    "\n",
    "    fig = px.bar(avg_price_by_type,\n",
    "                 x=\"Type\",\n",
    "                 y=\"Avg price\",\n",
    "                 title=\"Prix moyen par type de bien immobilier\",\n",
    "                 text=\"Avg price\")\n",
    "    fig.update_traces(\n",
    "        texttemplate='%{text:.2f} €',\n",
    "        hovertemplate='Type: %{x}<br>Prix moyen: %{y:.2f} €'\n",
    "    )\n",
    "    fig.show()\n",
    "\n",
    "prix_moyen_par_type(df)"
   ]
  },
  {
   "cell_type": "markdown",
   "id": "ae53f1b2",
   "metadata": {},
   "source": [
    "### Widget 1.3\n",
    "<!-- COMPLÉTEZ ICI: Décrivez le type de graphique et les insights attendus -->\n"
   ]
  },
  {
   "cell_type": "code",
   "execution_count": null,
   "id": "c7ab4840",
   "metadata": {},
   "outputs": [],
   "source": [
    "# Distribution par département\n",
    "def distribution_par_departement(df, sort=False):\n",
    "    df['code_departement'] = df['code_departement'].astype(str)\n",
    "    \n",
    "    # Filter departments where numeric code is less than 100\n",
    "    df_filtered = df[pd.to_numeric(df['code_departement'], errors='coerce') < 100]\n",
    "    \n",
    "    dept_counts = df_filtered['code_departement'].value_counts(sort=sort).reset_index()\n",
    "    dept_counts.columns = ['Département', 'Count']\n",
    "    \n",
    "    # Department names mapping\n",
    "    dept_names = {\n",
    "        '01': 'Ain', '02': 'Aisne', '03': 'Allier', '04': 'Alpes-de-Haute-Provence',\n",
    "        '05': 'Hautes-Alpes', '06': 'Alpes-Maritimes', '07': 'Ardèche', '08': 'Ardennes',\n",
    "        '09': 'Ariège', '10': 'Aube', '11': 'Aude', '12': 'Aveyron',\n",
    "        '13': 'Bouches-du-Rhône', '14': 'Calvados', '15': 'Cantal', '16': 'Charente',\n",
    "        '17': 'Charente-Maritime', '18': 'Cher', '19': 'Corrèze', '21': \"Côte-d'Or\",\n",
    "        '22': \"Côtes-d'Armor\", '23': 'Creuse', '24': 'Dordogne', '25': 'Doubs',\n",
    "        '26': 'Drôme', '27': 'Eure', '28': 'Eure-et-Loir', '29': 'Finistère',\n",
    "        '2A': 'Corse-du-Sud', '2B': 'Haute-Corse', '30': 'Gard', '31': 'Haute-Garonne',\n",
    "        '32': 'Gers', '33': 'Gironde', '34': 'Hérault', '35': 'Ille-et-Vilaine',\n",
    "        '36': 'Indre', '37': 'Indre-et-Loire', '38': 'Isère', '39': 'Jura',\n",
    "        '40': 'Landes', '41': 'Loir-et-Cher', '42': 'Loire', '43': 'Haute-Loire',\n",
    "        '44': 'Loire-Atlantique', '45': 'Loiret', '46': 'Lot', '47': 'Lot-et-Garonne',\n",
    "        '48': 'Lozère', '49': 'Maine-et-Loire', '50': 'Manche', '51': 'Marne',\n",
    "        '52': 'Haute-Marne', '53': 'Mayenne', '54': 'Meurthe-et-Moselle', '55': 'Meuse',\n",
    "        '56': 'Morbihan', '57': 'Moselle', '58': 'Nièvre', '59': 'Nord',\n",
    "        '60': 'Oise', '61': 'Orne', '62': 'Pas-de-Calais', '63': 'Puy-de-Dôme',\n",
    "        '64': 'Pyrénées-Atlantiques', '65': 'Hautes-Pyrénées', '66': 'Pyrénées-Orientales',\n",
    "        '67': 'Bas-Rhin', '68': 'Haut-Rhin', '69': 'Rhône', '70': 'Haute-Saône',\n",
    "        '71': 'Saône-et-Loire', '72': 'Sarthe', '73': 'Savoie', '74': 'Haute-Savoie',\n",
    "        '75': 'Paris', '76': 'Seine-Maritime', '77': 'Seine-et-Marne', '78': 'Yvelines',\n",
    "        '79': 'Deux-Sèvres', '80': 'Somme', '81': 'Tarn', '82': 'Tarn-et-Garonne',\n",
    "        '83': 'Var', '84': 'Vaucluse', '85': 'Vendée', '86': 'Vienne',\n",
    "        '87': 'Haute-Vienne', '88': 'Vosges', '89': 'Yonne', '90': 'Territoire de Belfort',\n",
    "        '91': 'Essonne', '92': 'Hauts-de-Seine', '93': 'Seine-Saint-Denis', '94': 'Val-de-Marne',\n",
    "        '95': \"Val-d'Oise\"\n",
    "    }\n",
    "    \n",
    "    # Ensure Département column is string type\n",
    "    dept_counts['Département'] = dept_counts['Département'].astype(str)\n",
    "    dept_counts['Nom'] = dept_counts['Département'].map(dept_names)\n",
    "    \n",
    "    fig = px.bar(dept_counts,\n",
    "                 x='Département',\n",
    "                 y='Count',\n",
    "                 title='Distribution par département (code < 100)',\n",
    "                 text='Count',\n",
    "                 hover_data=['Nom'])\n",
    "    fig.show()\n",
    "\n",
    "distribution_par_departement(df, sort=True)"
   ]
  },
  {
   "cell_type": "markdown",
   "id": "79b8f552",
   "metadata": {},
   "source": [
    "## Exploration interactive par budget\n",
    "\n",
    "### Widget 2.1 : Explorateur de budget (interactif - 1 à 3 paramètres)\n",
    "<!-- COMPLÉTEZ ICI: Décrivez les paramètres interactifs -->\n",
    "<!-- Exemple: -->\n",
    "<!-- - Slider pour le budget (min-max) -->\n",
    "<!-- - Menu déroulant pour le type de bien -->\n",
    "<!-- - Slider pour la surface minimale -->"
   ]
  },
  {
   "cell_type": "code",
   "execution_count": null,
   "id": "28421f97",
   "metadata": {},
   "outputs": [],
   "source": [
    "# CODEZ ICI: Créer les widgets interactifs (sliders, dropdowns, etc.)\n",
    "\n",
    "# CODEZ ICI: Fonction de filtrage basée sur les paramètres\n",
    "\n",
    "# CODEZ ICI: Affichage des résultats (tableau + graphique)"
   ]
  },
  {
   "cell_type": "markdown",
   "id": "bbbcda5b",
   "metadata": {},
   "source": [
    "### Widget 2.2 : Calculateur de rentabilité locative (interactif - 1 à 3 paramètres)\n",
    "<!-- COMPLÉTEZ ICI: Décrivez les paramètres -->\n",
    "<!-- Exemple: Prix d'achat, loyer mensuel estimé, charges, etc. -->\n"
   ]
  },
  {
   "cell_type": "code",
   "execution_count": null,
   "id": "7cdd7eca",
   "metadata": {},
   "outputs": [],
   "source": [
    "# CODEZ ICI: Créer les inputs interactifs\n",
    "\n",
    "# CODEZ ICI: Fonction de calcul du ROI, rendement brut, rendement net\n",
    "\n",
    "# CODEZ ICI: Affichage des résultats avec visualisation"
   ]
  },
  {
   "cell_type": "markdown",
   "id": "a566ce5d",
   "metadata": {},
   "source": [
    "---\n",
    "\n",
    "## Analyse géographique\n",
    "\n",
    "### Widget 3.1 : Comparaison régionale (interactif - 1 à 3 paramètres)\n",
    "\n",
    "<!-- COMPLÉTEZ ICI: Décrivez la comparaison attendue -->\n",
    "<!-- Exemple: Comparer 2-3 régions/villes sur plusieurs critères -->\n"
   ]
  },
  {
   "cell_type": "code",
   "execution_count": null,
   "id": "e75bff38",
   "metadata": {},
   "outputs": [],
   "source": [
    "# CODEZ ICI: Sélecteur de régions/villes à comparer\n",
    "\n",
    "# CODEZ ICI: Calcul des métriques de comparaison\n",
    "\n",
    "# CODEZ ICI: Visualisation comparative (barres, radar chart, etc.)"
   ]
  },
  {
   "cell_type": "markdown",
   "id": "63bd2e58",
   "metadata": {},
   "source": [
    "### Widget 3.2 : Carte interactive des prix (complexe - carte + paramètres)\n",
    "\n",
    "<!-- COMPLÉTEZ ICI: Décrivez les fonctionnalités de la carte -->\n",
    "<!-- Exemple: -->\n",
    "<!-- - Carte choroplèthe des prix moyens -->\n",
    "<!-- - Filtres par type de bien -->\n",
    "<!-- - Pop-up avec détails au clic -->\n",
    "<!-- - Layers pour différentes métriques -->"
   ]
  },
  {
   "cell_type": "code",
   "execution_count": null,
   "id": "d7cbb5b7",
   "metadata": {},
   "outputs": [],
   "source": [
    "# CODEZ ICI: Créer la carte interactive avec Folium ou Plotly\n",
    "\n",
    "# CODEZ ICI: Ajouter les paramètres de filtrage\n",
    "\n",
    "# CODEZ ICI: Afficher la carte\n"
   ]
  },
  {
   "cell_type": "markdown",
   "id": "fb14af36",
   "metadata": {},
   "source": [
    "---\n",
    "\n",
    "## Système de recommandation\n",
    "\n",
    "### Widget 4.1 : Détecteur d'opportunités (complexe - plus de 3 paramètres)\n",
    "\n",
    "<!-- COMPLÉTEZ ICI: Décrivez tous les paramètres du système de recommandation -->\n",
    "<!-- Exemple: -->\n",
    "<!-- - Budget min/max -->\n",
    "<!-- - Type(s) de bien souhaité(s) -->\n",
    "<!-- - Rendement minimum attendu -->\n",
    "<!-- - Région(s) préférée(s) -->\n",
    "<!-- - Niveau de risque acceptable -->\n",
    "<!-- - etc. -->"
   ]
  },
  {
   "cell_type": "code",
   "execution_count": null,
   "id": "8468d999",
   "metadata": {},
   "outputs": [],
   "source": [
    "# CODEZ ICI: Créer tous les widgets de paramétrage\n",
    "\n",
    "# CODEZ ICI: Fonction de scoring/recommandation\n",
    "\n",
    "# CODEZ ICI: Affichage des Top N opportunités recommandées\n",
    "\n",
    "# CODEZ ICI: Visualisation des recommandations (tableau + carte/graphique)"
   ]
  },
  {
   "cell_type": "markdown",
   "id": "3b7743b8",
   "metadata": {},
   "source": [
    "---\n",
    "\n",
    "## Tableaux de bord personnalisés\n",
    "\n",
    "### Widget 6.1 : Dashboard personnalisé\n",
    "\n",
    "<!-- COMPLÉTEZ ICI: Décrivez les éléments du dashboard -->\n",
    "<!-- Un dashboard qui combine plusieurs métriques importantes pour le persona -->\n"
   ]
  },
  {
   "cell_type": "code",
   "execution_count": null,
   "id": "e7ae75c7",
   "metadata": {},
   "outputs": [],
   "source": [
    "# CODEZ ICI: Créer un dashboard multi-graphiques\n",
    "\n",
    "# CODEZ ICI: Possibilité de personnaliser les métriques affichées"
   ]
  },
  {
   "cell_type": "markdown",
   "id": "1c77c3cc",
   "metadata": {},
   "source": [
    "---\n",
    "\n",
    "## Conclusions et recommandations\n",
    "\n",
    "### Synthèse des analyses\n",
    "<!-- COMPLÉTEZ ICI: Rédigez les conclusions principales -->\n",
    "<!-- Basées sur les analyses effectuées dans les sections précédentes -->\n",
    "\n",
    "### Recommandations pour l'investisseur\n",
    "<!-- COMPLÉTEZ ICI: Listez les recommandations concrètes -->\n",
    "<!-- Exemple: -->\n",
    "<!-- 1. Les 3 meilleures zones identifiées -->\n",
    "<!-- 2. Le type de bien optimal -->\n",
    "<!-- 3. Les zones à éviter -->\n",
    "<!-- 4. Conseils stratégiques -->\n",
    "\n",
    "### Points d'attention\n",
    "<!-- COMPLÉTEZ ICI: Listez les limites et précautions -->\n",
    "<!-- Exemple: Limites des données, facteurs non pris en compte, etc. -->\n",
    "\n",
    "---\n",
    "\n",
    "## Annexes\n",
    "\n",
    "### Méthodologie\n",
    "<!-- COMPLÉTEZ ICI: Expliquez votre méthodologie -->\n",
    "<!-- - Comment les données ont été nettoyées -->\n",
    "<!-- - Formules de calcul utilisées -->\n",
    "<!-- - Choix techniques justifiés -->\n",
    "\n",
    "### Sources et références\n",
    "<!-- COMPLÉTEZ ICI: Listez toutes vos sources -->\n",
    "<!-- - Liens vers les datasets -->\n",
    "<!-- - Documentation des APIs utilisées -->\n",
    "<!-- - Références bibliographiques si applicable -->\n",
    "\n",
    "---\n",
    "\n",
    "## Guide d'utilisation\n",
    "\n",
    "### Comment utiliser ce notebook\n",
    "<!-- COMPLÉTEZ ICI: Instructions pour l'utilisateur final -->\n",
    "<!-- 1. Exécuter les cellules dans l'ordre -->\n",
    "<!-- 2. Comment interagir avec les widgets -->\n",
    "<!-- 3. Comment interpréter les résultats -->\n",
    "<!-- etc. -->\n",
    "\n",
    "### Dépendances requises"
   ]
  },
  {
   "cell_type": "code",
   "execution_count": null,
   "id": "f3268398",
   "metadata": {},
   "outputs": [],
   "source": [
    "# Liste des bibliothèques nécessaires\n",
    "# COMPLÉTEZ ICI: Listez toutes les bibliothèques et leurs versions\n",
    "# pandas==X.X.X\n",
    "# matplotlib==X.X.X\n",
    "# etc."
   ]
  },
  {
   "cell_type": "markdown",
   "id": "d3b50b16",
   "metadata": {},
   "source": [
    "---\n",
    "\n",
    "**Projet développé par :**\n",
    "- Ashley OHNONA\n",
    "- Harisoa RANDRIANASOLO\n",
    "- Fairouz YOUDARENE\n",
    "- Jennifer ZAHORA\n",
    "\n",
    "**Date :** <!-- COMPLÉTEZ ICI: Date -->\n",
    "\n",
    "**Version :** 1.0"
   ]
  }
 ],
 "metadata": {
  "kernelspec": {
   "display_name": ".venv",
   "language": "python",
   "name": "python3"
  },
  "language_info": {
   "codemirror_mode": {
    "name": "ipython",
    "version": 3
   },
   "file_extension": ".py",
   "mimetype": "text/x-python",
   "name": "python",
   "nbconvert_exporter": "python",
   "pygments_lexer": "ipython3",
   "version": "3.12.3"
  }
 },
 "nbformat": 4,
 "nbformat_minor": 5
}
